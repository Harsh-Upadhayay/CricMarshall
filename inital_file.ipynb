{
 "cells": [
  {
   "cell_type": "code",
   "execution_count": 17,
   "metadata": {},
   "outputs": [
    {
     "name": "stdout",
     "output_type": "stream",
     "text": [
      "<generator object load_all at 0x0000028886251F90> <class 'generator'>\n",
      "{'batsman': 0, 'extras': 0, 'total': 0}\n"
     ]
    }
   ],
   "source": [
    "import yaml\n",
    "\n",
    "with open('dataset/ipl/335982.yaml') as f:\n",
    "    \n",
    "    docs = yaml.load_all(f, Loader=yaml.Loader)\n",
    "    print(docs, type(docs))\n",
    "    print((doc['innings'][1]['2nd innings']['deliveries'][8][1.2]['runs']))\n",
    "        # for u, v in doc.items():\n",
    "        #     print(u, '->', v)\n",
    "        # print(\"\\n\\n\\n\\n\")\n",
    "        # for k, v in doc.items():\n",
    "        #     if(isinstance(k, str) and k == 'innings'):\n",
    "        #         for x in v :\n",
    "        #             for y in x :\n",
    "        #                 for z in x[y] :\n",
    "        #                     for w in x[y][z] :\n",
    "        #                         print (w)\n",
    "            # for x in v :\n",
    "            #     if(isinstance(v, dict)):\n",
    "            #         print(type(x), '->', type(v[x]))"
   ]
  },
  {
   "cell_type": "code",
   "execution_count": 34,
   "metadata": {},
   "outputs": [
    {
     "name": "stdout",
     "output_type": "stream",
     "text": [
      "{'city': 'Bangalore', 'competition': 'IPL', 'dates': [datetime.date(2008, 4, 18)], 'gender': 'male', 'match_type': 'T20', 'outcome': {'by': {'runs': 140}, 'winner': 'Kolkata Knight Riders'}, 'overs': 20, 'player_of_match': ['BB McCullum'], 'teams': ['Royal Challengers Bangalore', 'Kolkata Knight Riders'], 'toss': {'decision': 'field', 'winner': 'Royal Challengers Bangalore'}, 'umpires': ['Asad Rauf', 'RE Koertzen'], 'venue': 'M Chinnaswamy Stadium'}\n"
     ]
    }
   ],
   "source": [
    "\n",
    "with open('dataset/ipl/335982.yaml') as f:\n",
    "    docs = yaml.load_all(f, Loader=yaml.Loader)\n",
    "    for doc in docs:\n",
    "        print(doc['info'])"
   ]
  }
 ],
 "metadata": {
  "kernelspec": {
   "display_name": "Python 3.9.12 ('base')",
   "language": "python",
   "name": "python3"
  },
  "language_info": {
   "codemirror_mode": {
    "name": "ipython",
    "version": 3
   },
   "file_extension": ".py",
   "mimetype": "text/x-python",
   "name": "python",
   "nbconvert_exporter": "python",
   "pygments_lexer": "ipython3",
   "version": "3.9.12"
  },
  "orig_nbformat": 4,
  "vscode": {
   "interpreter": {
    "hash": "ad2bdc8ecc057115af97d19610ffacc2b4e99fae6737bb82f5d7fb13d2f2c186"
   }
  }
 },
 "nbformat": 4,
 "nbformat_minor": 2
}
