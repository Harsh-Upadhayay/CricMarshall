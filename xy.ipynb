{
 "cells": [
  {
   "cell_type": "code",
   "execution_count": 5,
   "metadata": {},
   "outputs": [
    {
     "name": "stdout",
     "output_type": "stream",
     "text": [
      "{\"Stages\":[{\"Sid\":\"20\",\"Snm\":\"New Zealand v India\",\"Scd\":\"new-zealand-v-india-test-series\",\"Cnm\":\"Test Series\",\"Csnm\":\"Test Series\",\"Ccd\":\"intl-test\",\"Scu\":0,\"Events\":[{\"Eid\":\"234\",\"Pids\":{\"8\":\"234\"},\"Tr1C1\":235,\"Tr2C1\":242,\"Tr1C2\":132,\"Tr2C2\":124,\"Tr1CW1\":10,\"Tr2CW1\":10,\"Tr1CW2\":3,\"Tr2CW2\":10,\"Tr1CO1\":73.1,\"Tr2CO1\":63.0,\"Tr1CO2\":36.0,\"Tr2CO2\":46.0,\"T1\":[{\"Nm\":\"New Zealand\",\"ID\":\"86122\",\"Abr\":\"NEW\"}],\"T2\":[{\"Nm\":\"India\",\"ID\":\"86102\",\"Abr\":\"IND\"}],\"Eps\":\"FT\",\"Esid\":6,\"EpsL\":\"Finished\",\"Epr\":2,\"Ecov\":0,\"ErnInf\":\"2nd Test\",\"Et\":170,\"EtTx\":\"Test\",\"ECo\":\"New Zealand win by 7 wickets\",\"TPa\":1,\"TCho\":2,\"Esd\":20200229053000,\"Ese\":20200304053000,\"Exd\":5,\"EO\":6292069,\"Spid\":73,\"Pid\":8}]},{\"Sid\":\"203\",\"Snm\":\"South Africa v Australia\",\"Scd\":\"south-africa-v-australia-odi-series\",\"Cnm\":\"One Day Internationals\",\"Csnm\":\"One Day Intl.\",\"Ccd\":\"intl-odi\",\"Scu\":1,\"Events\":[{\"Eid\":\"1908\",\"Pids\":{\"8\":\"1908\"},\"Tr1C1\":274,\"Tr2C1\":271,\"Tr1CW1\":4,\"Tr2CW1\":10,\"Tr1CO1\":48.3,\"Tr2CO1\":50.0,\"T1\":[{\"Nm\":\"South Africa\",\"ID\":\"86128\",\"Abr\":\"SOU\"}],\"T2\":[{\"Nm\":\"Australia\",\"ID\":\"86103\",\"Abr\":\"AUS\"}],\"Eps\":\"FT\",\"Esid\":6,\"EpsL\":\"Finished\",\"Epr\":2,\"Ecov\":0,\"ErnInf\":\"2nd ODI\",\"Et\":120,\"EtTx\":\"ODI\",\"ECo\":\"South Africa win by 6 wickets\",\"TPa\":2,\"TCho\":1,\"Esd\":20200304180000,\"Ese\":20200304180000,\"Exd\":1,\"EO\":6292069,\"Spid\":73,\"Pid\":8}]},{\"Sid\":\"183\",\"Snm\":\"Sri Lanka v West Indies\",\"Scd\":\"sri-lanka-v-west-indies-twenty20-series\",\"Cnm\":\"Twenty20 Internationals\",\"Csnm\":\"Twenty20 Intl.\",\"Ccd\":\"intl-t20\",\"Scu\":1,\"Events\":[{\"Eid\":\"1390\",\"Pids\":{\"8\":\"1390\"},\"Tr1C1\":171,\"Tr2C1\":196,\"Tr1CW1\":10,\"Tr2CW1\":4,\"Tr1CO1\":19.1,\"Tr2CO1\":20.0,\"T1\":[{\"Nm\":\"Sri Lanka\",\"ID\":\"86129\",\"Abr\":\"SRI\"}],\"T2\":[{\"Nm\":\"West Indies\",\"ID\":\"86109\",\"Abr\":\"WIN\"}],\"Eps\":\"FT\",\"Esid\":6,\"EpsL\":\"Finished\",\"Epr\":2,\"Ecov\":0,\"ErnInf\":\"1st T20I\",\"Et\":100,\"EtTx\":\"Twenty20\",\"ECo\":\"West Indies win by 25 runs\",\"TPa\":2,\"TCho\":1,\"Esd\":20200304203000,\"Ese\":20200304203000,\"Exd\":1,\"EO\":6292069,\"Spid\":73,\"Pid\":8}]}]}\n"
     ]
    }
   ],
   "source": [
    "20200526\n",
    "\n",
    "import requests\n",
    "\n",
    "url = \"https://livescore6.p.rapidapi.com/matches/v2/list-by-date\"\n",
    "querystring = {\"Category\":\"cricket\",\"Date\":\"20200304\"}\n",
    "\n",
    "headers = {\n",
    "\t\"X-RapidAPI-Key\": \"2165b51fa1msh36b5c699287ecc8p1990a4jsnf24efe6b66ae\",\n",
    "\t\"X-RapidAPI-Host\": \"livescore6.p.rapidapi.com\"\n",
    "}\n",
    "\n",
    "response = requests.request(\"GET\", url, headers=headers, params=querystring)\n",
    "\n",
    "print(response.text)"
   ]
  }
 ],
 "metadata": {
  "kernelspec": {
   "display_name": "circMarshall",
   "language": "python",
   "name": "python3"
  },
  "language_info": {
   "codemirror_mode": {
    "name": "ipython",
    "version": 3
   },
   "file_extension": ".py",
   "mimetype": "text/x-python",
   "name": "python",
   "nbconvert_exporter": "python",
   "pygments_lexer": "ipython3",
   "version": "3.9.16"
  },
  "orig_nbformat": 4
 },
 "nbformat": 4,
 "nbformat_minor": 2
}
